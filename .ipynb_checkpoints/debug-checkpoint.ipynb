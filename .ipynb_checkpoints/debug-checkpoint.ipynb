{
 "cells": [
  {
   "cell_type": "code",
   "execution_count": 1,
   "id": "98db12e2",
   "metadata": {},
   "outputs": [],
   "source": [
    "import os\n",
    "import nltk\n",
    "import re\n",
    "import numpy as np\n",
    "import yaml\n",
    "import glob\n",
    "import matplotlib.pyplot as plt"
   ]
  },
  {
   "cell_type": "code",
   "execution_count": 2,
   "id": "af433284",
   "metadata": {
    "scrolled": true
   },
   "outputs": [],
   "source": [
    "data_path = '/home/beiming/RAW_DATA/MEG/case0554_A2_220715/Sentences/Baseline'\n",
    "phone_list_path = '/home/beiming/RAW_DATA/MEG/case0554_A2_220715/Sentences/PB400_phone.txt'\n",
    "config = yaml.load(open('conf/conf.yaml', 'r'), Loader=yaml.FullLoader)"
   ]
  },
  {
   "cell_type": "code",
   "execution_count": 3,
   "id": "97eec817",
   "metadata": {},
   "outputs": [],
   "source": [
    "meg_list = glob.glob(data_path + '/*.txt')\n",
    "meg_list.sort()\n",
    "\n",
    "sample_meg = np.loadtxt(meg_list[0])\n",
    "\n",
    "dim_range = config['MEG_data']['selected_dims']"
   ]
  },
  {
   "cell_type": "code",
   "execution_count": null,
   "id": "131c5576",
   "metadata": {},
   "outputs": [],
   "source": [
    "class MEG_dim_selection(object):\n",
    "    def __init__(self, dim_range):\n",
    "        self.dim_range = dim_range\n",
    "    def __call__(self, X):\n",
    "        if len(dim_range) % 2 != 0:\n",
    "            raise Exception(\"Nums of starts and ends don't match, please check!\")\n",
    "        sel = []   \n",
    "        for i in range(len(dim_range)//2):\n",
    "            start = dim_range[2*i]\n",
    "            end = dim_range[2*i+1]            \n",
    "            _X = X[:,start:end]           \n",
    "            sel.append(_X)   \n",
    "        X_sel = np.hstack(sel)\n",
    "        return X_sel\n",
    "    \n",
    "dim_sel = MEG_dim_selection(dim_range)\n",
    "X_sel = dim_sel(sample_meg)\n",
    "\n",
    "print(X_sel.shape)"
   ]
  },
  {
   "cell_type": "code",
   "execution_count": null,
   "id": "387e796a",
   "metadata": {
    "scrolled": true
   },
   "outputs": [],
   "source": [
    "class low_pass_filtering(object):\n",
    "    def __init__(self, cutoff_freq, fs):\n",
    "        \n",
    "        self.fs = fs\n",
    "        self.cutoff_freq = cutoff_freq\n",
    "    def __call__(self, I):\n",
    "        if self.cutoff_freq >= self.fs//2:\n",
    "            raise Exception(\"Cutoff freq must be lower than half of the sampling rate, based on the Nyquist criterion\")\n",
    "        from scipy.signal import butter, lfilter\n",
    "        cutoff_norm = self.cutoff_freq/(self.fs/2)\n",
    "        b, a = butter(5, cutoff_norm, btype='low', analog=False)\n",
    "        I_filtered_list = []\n",
    "        for i in range(I.shape[1]):\n",
    "            _I = lfilter(b, a, I[:,i])\n",
    "            I_filtered_list.append(_I)\n",
    "            I_filtered = np.vstack(I_filtered_list)\n",
    "\n",
    "        return I_filtered.T\n",
    "    \n",
    "LP = low_pass_filtering(200, 1000)\n",
    "S_F = LP(sample_meg)"
   ]
  },
  {
   "cell_type": "code",
   "execution_count": null,
   "id": "4d7aa3f3",
   "metadata": {},
   "outputs": [],
   "source": [
    "fs = 36\n",
    "plt.figure(figsize=(18,6), dpi=300)\n",
    "x1 = sample_meg[:,0]\n",
    "plt.plot(x1, 'r') "
   ]
  },
  {
   "cell_type": "code",
   "execution_count": null,
   "id": "b3a48945",
   "metadata": {},
   "outputs": [],
   "source": [
    "fs = 36\n",
    "plt.figure(figsize=(18,6), dpi=300)\n",
    "x1 = S_F[:,0]\n",
    "plt.plot(x1, 'r') "
   ]
  },
  {
   "cell_type": "code",
   "execution_count": 39,
   "id": "8de79696",
   "metadata": {},
   "outputs": [
    {
     "name": "stdout",
     "output_type": "stream",
     "text": [
      "(383, 11, 204)\n"
     ]
    }
   ],
   "source": [
    "# (3835, 204)\n",
    "\n",
    "class MEG_framing(object):\n",
    "    def __init__(self, frame_len, frame_shift, drop_last = True):\n",
    "        \n",
    "        self.frame_len = frame_len\n",
    "        self.frame_shift = frame_shift\n",
    "        self.drop_last = drop_last\n",
    "    def __call__(self, I):\n",
    "        frame_overlap = self.frame_len - self.frame_shift\n",
    "        \n",
    "        num_frames = np.abs(I.shape[0] - frame_overlap) // np.abs(self.frame_len - frame_overlap)\n",
    "        rest_samples = np.abs(I.shape[0] - frame_overlap) % np.abs(self.frame_len - frame_overlap)\n",
    "                \n",
    "        if rest_samples != 0:\n",
    "            pad_signal_length = int(self.frame_shift - rest_samples)\n",
    "            z = np.zeros((pad_signal_length,I.shape[1]))\n",
    "            pad_signal = np.append(I, z, axis = 0)\n",
    "            num_frames += 1\n",
    "        else:\n",
    "            pad_signal = I\n",
    "\n",
    "        idx1 = np.tile(np.arange(0, self.frame_len), (num_frames, 1))\n",
    "        idx2 = np.tile(np.arange(0, num_frames * self.frame_shift, self.frame_shift),(self.frame_len, 1)).T\n",
    "        indices = idx1 + idx2\n",
    "        frames = pad_signal[indices.astype(np.int32, copy=False),:]\n",
    "        \n",
    "        if self.drop_last == True:\n",
    "            frames = frames[:-1,:,:]\n",
    "        \n",
    "        return frames\n",
    "\n",
    "MEG_Fr = MEG_framing(11,10)\n",
    "S_F = MEG_Fr(sample_meg)\n",
    "print(S_F.shape)"
   ]
  },
  {
   "cell_type": "code",
   "execution_count": null,
   "id": "fdb292a2",
   "metadata": {},
   "outputs": [],
   "source": [
    "dim_sel = MEG_dim_selection(dim_range)\n",
    "LP = low_pass_filtering(200, 1000)\n",
    "MEG_Fr = MEG_framing(20, 5)"
   ]
  },
  {
   "cell_type": "code",
   "execution_count": null,
   "id": "ac0fac43",
   "metadata": {},
   "outputs": [],
   "source": [
    "transforms = []\n",
    "transforms.append(dim_sel)\n",
    "transforms.append(LP)\n",
    "transforms.append(MEG_Fr)\n",
    "\n",
    "class Transform_Compose(object):\n",
    "    def __init__(self, transforms):\n",
    "        self.transforms = transforms\n",
    "\n",
    "    def __call__(self, X):\n",
    "        for t in self.transforms:\n",
    "            X = t(X)\n",
    "        return X\n",
    "    \n",
    "transforms_all = Transform_Compose(transforms)"
   ]
  },
  {
   "cell_type": "code",
   "execution_count": 41,
   "id": "9918f54a",
   "metadata": {},
   "outputs": [
    {
     "name": "stdout",
     "output_type": "stream",
     "text": [
      "[0, 1, 2, 3, 4, 5, 6, 7]\n"
     ]
    }
   ],
   "source": [
    "CV_num = 8\n",
    "CV_list = list(range(CV_num))\n",
    "print(CV_list)"
   ]
  },
  {
   "cell_type": "code",
   "execution_count": null,
   "id": "d986b5b9",
   "metadata": {},
   "outputs": [],
   "source": [
    "label_path = '/home/beiming/RAW_DATA/MEG/case0554_A2_220715/Sentences'\n"
   ]
  }
 ],
 "metadata": {
  "kernelspec": {
   "display_name": "Python 3 (ipykernel)",
   "language": "python",
   "name": "python3"
  },
  "language_info": {
   "codemirror_mode": {
    "name": "ipython",
    "version": 3
   },
   "file_extension": ".py",
   "mimetype": "text/x-python",
   "name": "python",
   "nbconvert_exporter": "python",
   "pygments_lexer": "ipython3",
   "version": "3.8.10"
  }
 },
 "nbformat": 4,
 "nbformat_minor": 5
}
