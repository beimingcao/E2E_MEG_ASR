{
 "cells": [
  {
   "cell_type": "code",
   "execution_count": 1,
   "id": "98db12e2",
   "metadata": {},
   "outputs": [],
   "source": [
    "import os\n",
    "import nltk\n",
    "import re\n",
    "import numpy as np\n",
    "import yaml\n",
    "import glob\n",
    "import matplotlib.pyplot as plt"
   ]
  },
  {
   "cell_type": "code",
   "execution_count": 2,
   "id": "af433284",
   "metadata": {
    "scrolled": true
   },
   "outputs": [],
   "source": [
    "data_path = '/home/beiming/RAW_DATA/MEG/case0554_A2_220715/Sentences/Baseline'\n",
    "phone_list_path = '/home/beiming/RAW_DATA/MEG/case0554_A2_220715/Sentences/PB400_phone.txt'\n",
    "config = yaml.load(open('conf/conf.yaml', 'r'), Loader=yaml.FullLoader)"
   ]
  },
  {
   "cell_type": "code",
   "execution_count": 3,
   "id": "97eec817",
   "metadata": {},
   "outputs": [],
   "source": [
    "meg_list = glob.glob(data_path + '/*.txt')\n",
    "meg_list.sort()\n",
    "\n",
    "sample_meg = np.loadtxt(meg_list[0])\n",
    "\n",
    "dim_range = config['MEG_data']['selected_dims']"
   ]
  },
  {
   "cell_type": "code",
   "execution_count": null,
   "id": "131c5576",
   "metadata": {},
   "outputs": [],
   "source": [
    "class MEG_dim_selection(object):\n",
    "    def __init__(self, dim_range):\n",
    "        self.dim_range = dim_range\n",
    "    def __call__(self, X):\n",
    "        if len(dim_range) % 2 != 0:\n",
    "            raise Exception(\"Nums of starts and ends don't match, please check!\")\n",
    "        sel = []   \n",
    "        for i in range(len(dim_range)//2):\n",
    "            start = dim_range[2*i]\n",
    "            end = dim_range[2*i+1]            \n",
    "            _X = X[:,start:end]           \n",
    "            sel.append(_X)   \n",
    "        X_sel = np.hstack(sel)\n",
    "        return X_sel\n",
    "    \n",
    "dim_sel = MEG_dim_selection(dim_range)\n",
    "X_sel = dim_sel(sample_meg)\n",
    "\n",
    "print(X_sel.shape)"
   ]
  },
  {
   "cell_type": "code",
   "execution_count": null,
   "id": "387e796a",
   "metadata": {
    "scrolled": true
   },
   "outputs": [],
   "source": [
    "class low_pass_filtering(object):\n",
    "    def __init__(self, cutoff_freq, fs):\n",
    "        \n",
    "        self.fs = fs\n",
    "        self.cutoff_freq = cutoff_freq\n",
    "    def __call__(self, I):\n",
    "        if self.cutoff_freq >= self.fs//2:\n",
    "            raise Exception(\"Cutoff freq must be lower than half of the sampling rate, based on the Nyquist criterion\")\n",
    "        from scipy.signal import butter, lfilter\n",
    "        cutoff_norm = self.cutoff_freq/(self.fs/2)\n",
    "        b, a = butter(5, cutoff_norm, btype='low', analog=False)\n",
    "        I_filtered_list = []\n",
    "        for i in range(I.shape[1]):\n",
    "            _I = lfilter(b, a, I[:,i])\n",
    "            I_filtered_list.append(_I)\n",
    "            I_filtered = np.vstack(I_filtered_list)\n",
    "\n",
    "        return I_filtered.T\n",
    "    \n",
    "LP = low_pass_filtering(200, 1000)\n",
    "S_F = LP(sample_meg)"
   ]
  },
  {
   "cell_type": "code",
   "execution_count": null,
   "id": "4d7aa3f3",
   "metadata": {},
   "outputs": [],
   "source": [
    "fs = 36\n",
    "plt.figure(figsize=(18,6), dpi=300)\n",
    "x1 = sample_meg[:,0]\n",
    "plt.plot(x1, 'r') "
   ]
  },
  {
   "cell_type": "code",
   "execution_count": null,
   "id": "b3a48945",
   "metadata": {},
   "outputs": [],
   "source": [
    "fs = 36\n",
    "plt.figure(figsize=(18,6), dpi=300)\n",
    "x1 = S_F[:,0]\n",
    "plt.plot(x1, 'r') "
   ]
  },
  {
   "cell_type": "code",
   "execution_count": 39,
   "id": "3a518c30",
   "metadata": {},
   "outputs": [
    {
     "name": "stdout",
     "output_type": "stream",
     "text": [
      "(383, 11, 204)\n"
     ]
    }
   ],
   "source": [
    "# (3835, 204)\n",
    "\n",
    "class MEG_framing(object):\n",
    "    def __init__(self, frame_len, frame_shift, drop_last = True):\n",
    "        \n",
    "        self.frame_len = frame_len\n",
    "        self.frame_shift = frame_shift\n",
    "        self.drop_last = drop_last\n",
    "    def __call__(self, I):\n",
    "        frame_overlap = self.frame_len - self.frame_shift\n",
    "        \n",
    "        num_frames = np.abs(I.shape[0] - frame_overlap) // np.abs(self.frame_len - frame_overlap)\n",
    "        rest_samples = np.abs(I.shape[0] - frame_overlap) % np.abs(self.frame_len - frame_overlap)\n",
    "                \n",
    "        if rest_samples != 0:\n",
    "            pad_signal_length = int(self.frame_shift - rest_samples)\n",
    "            z = np.zeros((pad_signal_length,I.shape[1]))\n",
    "            pad_signal = np.append(I, z, axis = 0)\n",
    "            num_frames += 1\n",
    "        else:\n",
    "            pad_signal = I\n",
    "\n",
    "        idx1 = np.tile(np.arange(0, self.frame_len), (num_frames, 1))\n",
    "        idx2 = np.tile(np.arange(0, num_frames * self.frame_shift, self.frame_shift),(self.frame_len, 1)).T\n",
    "        indices = idx1 + idx2\n",
    "        frames = pad_signal[indices.astype(np.int32, copy=False),:]\n",
    "        \n",
    "        if self.drop_last == True:\n",
    "            frames = frames[:-1,:,:]\n",
    "        \n",
    "        return frames\n",
    "\n",
    "MEG_Fr = MEG_framing(11,10)\n",
    "S_F = MEG_Fr(sample_meg)\n",
    "print(S_F.shape)"
   ]
  },
  {
   "cell_type": "code",
   "execution_count": null,
   "id": "1c932789",
   "metadata": {},
   "outputs": [],
   "source": [
    "dim_sel = MEG_dim_selection(dim_range)\n",
    "LP = low_pass_filtering(200, 1000)\n",
    "MEG_Fr = MEG_framing(20, 5)"
   ]
  },
  {
   "cell_type": "code",
   "execution_count": null,
   "id": "6320cfa0",
   "metadata": {},
   "outputs": [],
   "source": [
    "transforms = []\n",
    "transforms.append(dim_sel)\n",
    "transforms.append(LP)\n",
    "transforms.append(MEG_Fr)\n",
    "\n",
    "class Transform_Compose(object):\n",
    "    def __init__(self, transforms):\n",
    "        self.transforms = transforms\n",
    "\n",
    "    def __call__(self, X):\n",
    "        for t in self.transforms:\n",
    "            X = t(X)\n",
    "        return X\n",
    "    \n",
    "transforms_all = Transform_Compose(transforms)"
   ]
  },
  {
   "cell_type": "code",
   "execution_count": 41,
   "id": "988c237b",
   "metadata": {},
   "outputs": [
    {
     "name": "stdout",
     "output_type": "stream",
     "text": [
      "[0, 1, 2, 3, 4, 5, 6, 7]\n"
     ]
    }
   ],
   "source": [
    "CV_num = 8\n",
    "CV_list = list(range(CV_num))\n",
    "print(CV_list)"
   ]
  },
  {
   "cell_type": "code",
   "execution_count": null,
   "id": "f70197af",
   "metadata": {},
   "outputs": [],
   "source": [
    "train_spk_list = spk_list.copy()\n",
    "train_spk_list.remove(spk_list[i])"
   ]
  },
  {
   "cell_type": "code",
   "execution_count": 42,
   "id": "a43791bd",
   "metadata": {},
   "outputs": [
    {
     "name": "stdout",
     "output_type": "stream",
     "text": [
      "['DH AH W AA CH D AO G G EY V EY W AO R N IH NG G R AW L\\n', 'SH IY M EY D DH AH B EH D W IH DH K L IY N SH IY T S\\n', 'DH AH OW L D M AE N D IH S K AH S T DH AH D AY V\\n', 'B AA B HH ER D P AO L K AO L D AH B AW T DH AH S T R IH P S\\n', 'AY SH UH D HH AE V K AH N S IH D ER D DH AH M AE P\\n', 'DH AH OW L D T R EY N W AA Z P AW ER D B AY S T IY M\\n', 'HH IY K AA T DH AH F IH SH IH N HH IH Z N EH T\\n', 'M IH S B R AW N SH UH D AH N T D IH S K AH S DH AH S AE N D\\n', 'K L OW S DH AH W IH N D OW T UW S T AA P DH AH D R AE F T\\n', 'M AY T IY V IY HH AE Z EY T W EH L V IH N CH S K R IY N\\n', 'DH EY M AY T HH AE V K AH N S IH D ER D DH AH HH AY V\\n', 'D EY V IH D HH AE Z D IH S K AH S T DH AH D EH N T\\n', 'DH AH S AE N D AH L HH AE Z EY B R OW K AH N S T R AE P\\n', 'DH AH B OW T S EY L D AH L AO NG DH AH K OW S T\\n', 'K R AA K AH D AY L Z L AY V IH N M AH D IY S W AA M P S\\n', 'HH IY K AE N T K AH N S IH D ER DH AH K R IH B\\n', 'DH AH F AA R M ER HH AA R V AH S T IH D HH IH Z K R AA P\\n', 'AO L DH AH F L AW ER Z W ER IH N B L UW M\\n', 'AY AE M TH IH NG K IH NG AH B AW T DH AH N AY F\\n', 'D EY V IH D D AH Z N AA T D IH S K AH S DH AH HH AH G\\n', 'SH IY W AO R EY F EH DH ER IH N HH ER K AE P\\n', 'W IY V B IH N D IH S K AH S IH NG DH AH K R EY T S\\n', 'M IH S B L AE K N UW AH B AW T DH AH D AA L\\n', 'DH AH AE D M ER AH L K AH M AE N D Z DH AH F L IY T\\n', 'SH IY K UH D AH N T D IH S K AH S DH AH P AY N\\n', 'M IH S B L AE K TH AO T AH B AW T DH AH L AE P\\n', 'DH AH B IH R D R IH NG K ER Z R EY Z D DH EH R M AH G Z\\n', 'HH IY W AA Z HH IH T B AY EY P OY Z AH N D D AA R T\\n', 'DH AH B R EH D W AA Z M EY D F R AH M HH OW L W IY T\\n', 'M IH S T ER B L AE K N UW AH B AW T DH AH P AE D\\n', 'Y UW HH ER D JH EY N K AO L D AH B AW T DH AH V AE N\\n', 'AY M EY D DH AH F OW N K AO L F R AH M EY B UW TH\\n', 'T AA M W AA N T S T UW N OW AH B AW T DH AH K EY K\\n', 'SH IY Z S P OW K AH N AH B AW T DH AH B AA M\\n', 'DH AH K AH T AA N HH IH Z N IY F AO R M D EY S K AE B\\n', 'W IY HH IY R Y UW K AO L D AH B AW T DH AH L AA K\\n', 'DH AH OW L D M AE N D IH S K AH S T DH AH Y EH L\\n', 'HH IH Z B AA S M EY D HH IH M W ER K L AY K EY S L EY V\\n', 'DH AH F AA R M ER B EY L D DH AH HH EY\\n', 'DH EH R G L AE D W IY HH ER D AH B AW T DH AH T R AE K\\n', 'EY T ER M AY T L UH K S L AY K AE N AE N T\\n', 'EH R M EY L R IY K W AY ER Z EY S P EH SH AH L S T AE M P\\n', 'F UH T B AO L IH Z EY D EY N JH ER AH S S P AO R T\\n', 'S UW W AA Z IH N T AH R EH S T IH D IH N DH AH B R UW Z\\n', 'R UW TH W IH L K AH N S IH D ER DH AH HH ER D\\n', 'W IY S AO EY F L AA K AH V W AY L D G IY S\\n', 'DH AH G ER L T AO K T AH B AW T DH AH JH IH N\\n', 'P AO L K AE N T D IH S K AH S DH AH W AE K S\\n', 'D R AA P DH AH K OY N TH R UW DH AH S L AA T\\n', 'AY HH OW P P AO L AE S K T AH B AW T DH AH M EY T\\n', 'Y UH R G L AE D DH EY HH ER D AH B AW T DH AH S L EY V\\n', 'DH AH G ER L N OW Z AH B AW T DH AH S W AA M P S\\n', 'HH OW L D DH AH B EY B IY AA N Y AO R L AE P\\n', 'F AO R Y AO R B ER TH D EY AY B EY K T EY K EY K\\n', 'DH AH R EY L R OW D T R EY N R AE N AO F DH AH T R AE K\\n', 'DH EY D IH D N AA T D IH S K AH S DH AH S K R IY N\\n', 'DH EY W ER IH N T AH R EH S T IH D IH N DH AH S T R AE P\\n', 'T EH R AO F S AH M P EY P ER F R AH M DH AH P AE D\\n', 'AY HH AE D EY P R AA B L AH M W IH DH DH AH B L UW M\\n', 'P IY T ER SH UH D S P IY K AH B AW T DH AH M AH G Z\\n', 'DH AH F R UW T W AA Z SH IH P T IH N W UH D AH N K R EY T S\\n', 'DH AH R AE N CH ER R AW N D AH D AH P HH IH Z HH ER D\\n', 'SH IY W AA N T S T UW S P IY K AH B AW T DH AH AE N T\\n', 'W IY R D IH S K AH S IH NG DH AH SH IY T S\\n', 'DH AH B OY W UH D D IH S K AH S DH AH S K AE B\\n', 'DH AH L OW N L IY B ER D S ER CH T F AO R IH T S M EY T\\n', 'T AA M K UH D HH AE V TH AO T AH B AW T DH AH S P AO R T\\n', 'Y UW D B IH N K AH N S IH D ER IH NG DH AH G IY S\\n', 'DH EY D R AE NG K EY HH OW L B AA T AH L AH V JH IH N\\n', 'AA N DH AH B IY CH W IY P L EY IH N DH AH S AE N D\\n', 'M IH S T ER B L AE K K AH N S IH D ER D DH AH F L IY T\\n', 'DH AH EH R P L EY N W EH N T IH N T UW EY D AY V\\n', 'W IY R L AO S T S OW L EH T S L UH K AE T DH AH M AE P\\n', 'AY W AA N T T UW N OW AH B AW T DH AH K R AA P\\n', 'HH AW S HH OW L D G UH D Z AA R M UW V D IH N EY V AE N\\n', 'DH AH HH AH N IY B IY Z S W AO R M D R AW N D DH AH HH AY V\\n', 'B EH T IY HH AE Z T AO K T AH B AW T DH AH D R AE F T\\n', 'T AA M D IH S K AH S T DH AH HH EY\\n', 'JH EY N W AA Z IH N T AH R EH S T IH D IH N DH AH S T AE M P\\n', 'DH AH EH R P L EY N D R AA P T EY B AA M\\n', 'K AH T DH AH B EY K AH N IH N T UW S T R IH P S\\n', 'AY HH AE D N AA T TH AO T AH B AW T DH AH G R AW L\\n', 'DH AH D R AW N IH NG M AE N L EH T AW T EY Y EH L\\n', 'AY G EY V HH ER EY K IH S AH N D EY HH AH G\\n', 'P AO L SH UH D N OW AH B AW T DH AH N EH T\\n', 'AY K AH T M AY F IH NG G ER W IH DH EY N AY F\\n', 'DH AH K AE N D AH L F L EY M M EH L T AH D DH AH W AE K S\\n', 'T AA M HH ER D JH EY N K AO L D AH B AW T DH AH B UW TH\\n', 'W IY K AE N T K AH N S IH D ER DH AH W IY T\\n', 'DH IH S K IY W OW N T F IH T IH N DH AH L AA K\\n', 'W IY HH AE V N AA T D IH S K AH S T DH AH S T IY M\\n', 'M IH S B R AW N M AY T K AH N S IH D ER DH AH K OW S T\\n', 'M IH S T ER B R AW N K AE N T D IH S K AH S DH AH S L AA T\\n', 'DH AH L IH T AH L G ER L K AH D AH L D HH ER D AA L\\n', 'T AA M F EH L D AW N AH N D G AA T EY B AE D B R UW Z\\n', 'HH IY HH AE Z AH N T K AH N S IH D ER D DH AH D AA R T\\n', 'DH AH F ER N IH CH ER W AA Z M EY D AH V P AY N\\n', 'HH AW D IH D Y AO R K AA R G EH T DH AE T D EH N T\\n', 'M IH S T ER S M IH TH TH IH NG K S AH B AW T DH AH K AE P\\n', 'DH AH B EY B IY S L EH P T IH N HH IH Z K R IH B\\n', 'EY R OW Z B UH SH HH AE Z P R IH K L IY TH AO R N Z\\n', 'W IY SH UH D HH AE V K AH N S IH D ER D DH AH JH UW S\\n', 'DH AH SH IH P R EH K T S EY L ER Z B IH L T EY R AE F T\\n', 'B AA B K UH D HH AE V N OW N AH B AW T DH AH S P UW N\\n', 'R UW TH P AO R D DH AH W AO T ER D AW N DH AH D R EY N\\n', 'DH AH B OY G EY V DH AH F UH T B AO L EY K IH K\\n', 'B IH L M AY T D IH S K AH S DH AH F OW M\\n', 'DH AH K AA P W AO R EY B UH L AH T P R UW F V EH S T\\n', 'T AA M K UH D N AA T D IH S K AH S DH AH B AA R N\\n', 'Y UW W ER K AH N S IH D ER IH NG DH AH G AE NG\\n', 'AE F T ER HH IH Z B AE TH HH IY W AO R EY R OW B\\n', 'N AE N S IY SH UH D K AH N S IH D ER DH AH F IH S T\\n', 'AY K AE N T G EH S S OW G IH V M IY EY HH IH N T\\n', 'DH AH S UW P W AA Z S ER V D IH N EY B OW L\\n', 'AY V S P OW K AH N AH B AW T DH AH P AY L\\n', 'JH EY N HH AE Z EY P R AA B L AH M W IH DH DH AH K OY N\\n', 'DH AH B AA M IH K S P L OW D AH D W IH DH EY B L AE S T\\n', 'M EH R IY K UH D N AA T D IH S K AH S DH AH T AE K\\n', 'DH EY HH AE V EY P R AA B L AH M W IH DH DH AH L IH M\\n', 'N AE N S IY HH AE D K AH N S IH D ER D DH AH S L IY V Z\\n', 'L UW B R IH K EY T DH AH K AA R W IH DH G R IY S\\n', 'DH AH W ER K ER Z AA R D IH G IH NG EY D IH CH\\n', 'B IH L HH ER D T AA M K AO L D AH B AW T DH AH K OW CH\\n', 'DH EY M AA R CH T T UW DH AH B IY T AH V DH AH D R AH M\\n', 'N OW W AH N W AA Z IH N JH ER D IH N DH AH K R AE SH\\n', 'DH AH OW L D M AE N TH IH NG K S AH B AW T DH AH M AE S T\\n', 'DH AH S EY L ER S W AA B D DH AH D EH K\\n', 'T AA M W IH L D IH S K AH S DH AH S W AA N\\n', 'AE N W AA Z IH N T AH R EH S T IH D IH N DH AH B R EH TH\\n', 'DH IH S N AA Z AH L S P R EY Z EY F AY N M IH S T\\n', 'R UW TH HH OW P S HH IY HH ER D AH B AW T DH AH HH IH P S\\n', 'T AA M IH Z T AO K IH NG AH B AW T DH AH F IY\\n', 'M IH S S M IH TH K AH N S IH D ER D DH AH S K EH R\\n', 'DH AH SH IH P S K AE P T AH N S AH M AH N D HH IH Z K R UW\\n', 'DH EY F IH SH T IH N DH AH B AE B AH L IH NG B R UH K\\n', 'DH AH HH AA K IY P L EY ER S K AO R D EY G OW L\\n', 'D EY V IH D SH UH D K AH N S IH D ER DH AH B L EY M\\n', 'DH EY P L EY D EY G EY M AH V K AE T AH N D M AW S\\n', 'HH IY Z G L AE D Y UW K AO L D AH B AW T DH AH JH AA R\\n', 'T AA M W IH L D IH S K AH S DH AH K AA T\\n', 'DH AH S T IY M SH IH P L EH F T AA N EY K R UW Z\\n', 'SH IY F EY S T DH EH M W IH DH EY F UW L IH SH G R IH N\\n', 'HH IY HH OW P S T AA M AE S K T AH B AW T DH AH B AA R\\n', 'M IH S B L AE K K UH D HH AE V D IH S K AH S T DH AH R OW P\\n', 'EY CH IH M P AE N Z IY IH Z AE N EY P\\n', 'HH IY W AY P T DH AH S IH NG K W IH DH EY S P AH N JH\\n', 'W IY SH IH P T DH AH F ER N IH CH ER B AY T R AH K\\n', 'R UW TH S G R AE N D M AH DH ER D IH S K AH S T DH AH B R UW M\\n', 'AY V B IH N K AH N S IH D ER IH NG DH AH K R AW N\\n', 'EY B EH R HH AE Z EY TH IH K K OW T AH V F ER\\n', 'AY W AA N T T UW S P IY K AH B AW T DH AH K R AE SH\\n', 'HH EH R IY S L EH P T AA N DH AH F OW L D IH NG K AA T\\n', 'SH IY Z G L AE D JH EY N AE S K T AH B AW T DH AH D R EY N\\n', 'DH AH D AA K T ER CH AA R JH D EY L OW F IY\\n', 'HH IY HH AE D K AH N S IH D ER D DH AH R OW B\\n', 'AY HH AE V AH N T D IH S K AH S T DH AH S P AH N JH\\n', 'DH AH G IH L T IY W AH N SH UH D T EY K DH AH B L EY M\\n', 'Y UW K AE N AA T HH AE V D IH S K AH S T DH AH G R IY S\\n', 'DH AH K UH K IY Z W ER K EH P T IH N EY JH AA R\\n', 'L EH T S IH N V AY T DH AH HH OW L G AE NG\\n', 'M IH S T ER W AY T D IH S K AH S T DH AH K R UW Z\\n', 'DH AH S P AO R T SH ER T HH AE Z SH AO R T S L IY V Z\\n', 'DH EY N UW AH B AW T DH AH F ER\\n', 'W IY V S P OW K AH N AH B AW T DH AH T R AH K\\n', 'DH AH K UH SH AH N W AA Z F IH L D W IH DH F OW M\\n', 'HH AW L AO NG K AE N Y UW HH OW L D Y AO R B R EH TH\\n', 'SH IY W AA N T S T UW T AO K AH B AW T DH AH K R UW\\n', 'DH AH K AW W AA Z M IH L K T IH N DH AH B AA R N\\n', 'DH AE T AE K S AH D AH N T G EY V M IY EY S K EH R\\n', 'DH AH K IH T AH N K L AY M D AW T AA N EY L IH M\\n', 'Y UH R G L AE D SH IY K AO L D AH B AW T DH AH B OW L\\n', 'DH AH M AE N K UH D N AA T D IH S K AH S DH AH M AW S\\n', 'HH IY T AO S T DH AH D R AW N IH NG M AE N EY R OW P\\n', 'Y UW HH OW P DH EY AE S K T AH B AW T DH AH V EH S T\\n', 'Y UW W AA N T T UW T AO K AH B AW T DH AH D IH CH\\n', 'S T ER Y AO R K AA F IY W IH DH EY S P UW N\\n', 'W IY HH IY R SH IY K AO L D AH B AW T DH AH D R AH M\\n', 'B AA B S T UH D W IH DH HH IH Z HH AE N D Z AA N HH IH Z HH IH P S\\n', 'DH AH T IY CH ER S AE T AA N EY SH AA R P T AE K\\n', 'SH IY M AY T HH AE V D IH S K AH S T DH AH EY P\\n', 'DH AH S T AO R M B R OW K DH AH S EY L B OW TS M AE S T\\n', 'AE T B R EH K F AH S T HH IY D R AE NG K S AH M JH UW S\\n', 'HH IY HH IH T M IY W IH DH EY K L EH N CH T F IH S T\\n', 'P IY T ER N OW Z AH B AW T DH AH R AE F T\\n', 'DH AH OW L D M AE N K AH N S IH D ER D DH AH K IH K\\n', 'W IY HH AE V N AA T TH AO T AH B AW T DH AH HH IH N T\\n', 'DH AH T IY M W AA Z T R EY N D B AY DH EH R K OW CH\\n', 'B IH L HH OW P S P AO L HH ER D AH B AW T DH AH M IH S T\\n', 'DH AH K IH NG W AO R EY G OW L D AH N K R AW N\\n', 'DH AH S AE N D W AA Z HH IY P T IH N EY P AY L\\n', 'DH AH B OY K AE N T T AO K AH B AW T DH AH TH AO R N Z\\n', 'M IH S B R AW N W IH L S P IY K AH B AW T DH AH G R IH N\\n', 'DH AH D AH K S W AE M W IH DH DH AH W AY T S W AA N\\n', 'L EH T S D IH S AY D B AY T AO S IH NG EY K OY N\\n', 'SH IY HH AE Z EY P R AA B L AH M W IH DH DH AH G OW L\\n', 'JH EY N D IH D AH N T TH IH NG K AH B AW T DH AH B R UH K\\n', 'HH IY HH IY R Z SH IY AE S K T AH B AW T DH AH D EH K\\n', 'HH IY G AA T D R AH NG K IH N DH AH L OW K AH L B AA R\\n', 'DH AH G ER L S W EH P T DH AH F L AO R W IH DH EY B R UW M\\n', 'DH AH K L AE S W IH L K AH N S IH D ER DH AH B L AE S T\\n', 'M IH S W AY T W UH D K AH N S IH D ER DH AH M OW L D\\n', 'R UW TH HH AE Z EY P R AA B L AH M W IH DH DH AH JH OY N T S\\n', 'DH AH B OY M AY T K AH N S IH D ER DH AH T R AE P\\n', 'T UW S T AO R HH IH Z W UH D HH IY B IH L T EY SH EH D\\n', 'DH AH L AY AH N G EY V AE N AE NG G R IY R AO R\\n', 'HH IY IH Z K AH N S IH D ER IH NG DH AH TH R OW T\\n', 'DH EY HH OW P HH IY HH ER D AH B AW T DH AH R EH N T\\n', 'DH AH K AA R W AA Z P AA R K T AE T DH AH K ER\\n', 'P IY T ER SH UH D K AH N S IH D ER DH AH B AW AE Z IH N EH N\\n', 'DH AH OW L D W UH M AH N D IH S K AH S T DH AH TH IY F\\n', 'EY R AW N D HH OW L W OW N T T EY K EY S K W EH R P EH G\\n', 'Y UH R D IH S K AH S IH NG DH AH P L AA T\\n', 'DH AH W UH M AH N N UW AH B AW T DH AH L IH D\\n', 'P IY T ER D R AA P T IH N F AO R EY B R IY F CH AE T\\n', 'Y UW W ER IH N T AH R EH S T IH D IH N DH AH S K R IY M\\n', 'DH AH G AE M B L ER L AO S T DH AH B EH T\\n', 'DH AH B ER G L ER IH S K EY P T W IH DH DH AH L UW T\\n', 'HH IY K UH D D IH S K AH S DH AH B R EH D\\n', 'HH IY W AA Z S K EH R D AW T AH V HH IH Z W IH T S\\n', 'HH IY D AH Z AH N T D IH S K AH S DH AH M AA P\\n', 'IY V W AA Z M EY D F R AH M AE D AH M Z R IH B\\n', 'G EH T DH AH B R EH D AH N D K AH T M IY EY S L AY S\\n', 'B IH L W OW N T K AH N S IH D ER DH AH B R AE T\\n', 'W IY HH ER D DH AH T IH K IH NG AH V DH AH K L AA K\\n', 'G R IY T DH AH HH IH R OW Z W IH DH L AW D CH IH R Z\\n', 'DH IH S K AE M ER AH IH Z AW T AH V F IH L M\\n', 'R UW TH W AA N T S T UW S P IY K AH B AW T DH AH S L IH NG\\n', 'M AY JH AO EY K S W EH N AY CH UW G AH M\\n', 'DH AH M AE N K UH D K AH N S IH D ER DH AH S P UW L\\n', 'DH AH B L AH D HH AW N D F AA L OW D DH AH T R EY L\\n', 'DH AH D AA K T ER P R IY S K R AY B D DH AH D R AH G\\n', 'HH IY R OW D AO F IH N EY K L AW D AH V D UW EH T\\n', 'HH IY W AA Z IH N T AH R EH S T IH D IH N DH AH HH EH JH\\n', 'R UW TH HH OW P S SH IY K AO L D AH B AW T DH AH JH AH NG K\\n', 'P L EY IH NG CH EH K ER Z K AE N B IY F AH N\\n', 'W IY R G L AE D AE N AE S K T AH B AW T DH AH F AH JH\\n', 'DH AH S UW P ER HH AY W EY HH AE Z S IH K S L EY N Z\\n', 'AH N L AA K DH AH D AO R AH N D T ER N DH AH N AA B\\n', 'R UW TH IH Z S P IY K IH NG AH B AW T DH AH M IY L\\n', 'M EY P AH L S ER AH P IH Z M EY D F R AH M S AE P\\n', 'B IH L K AE N AA T K AH N S IH D ER DH AH D EH N\\n', 'W IY AA R S P IY K IH NG AH B AW T DH AH P R AY Z\\n', 'DH AH K AA R D R OW V AO F DH AH S T IY P K L IH F\\n', 'M IH S S M IH TH K UH D AH N T D IH S AH S TH AH R OW AE Z IH N N OW\\n', 'DH AH G L AE S HH AE D EY CH IH P AA N DH AH R IH M\\n', 'OW L D M EH T AH L K AE N Z W ER M EY D W IH DH T IH N\\n', 'M IH S W AY T TH IH NG K S AH B AW T DH AH T IY\\n', 'M IH S W AY T D AH Z AH N T D IH S K AH S DH AH K R AE M P\\n', 'DH AE T JH AA B W AA Z AE N IY Z IY T AE S K\\n', 'M IH S T ER W AY T S P OW K AH B AW T DH AH F ER M\\n', 'TH R OW AW T AO L DH IH S Y UW S L AH S JH AH NG K\\n', 'SH IY K UH K T HH IH M EY HH AA R T IY M IY L\\n', 'HH ER EH N T R IY SH UH D W IH N F ER S T P R AY Z\\n', 'R UW TH K UH D HH AE V D IH S K AH S T DH AH W IH T S\\n', 'W IY K UH D D IH S K AH S DH AH D AH S T\\n', 'DH AH S T EY L B R EH D W AA Z K AH V ER D W IH DH M OW L D\\n', 'DH AH F AY R M AH N HH ER D HH ER F R AY T AH N D S K R IY M\\n', 'W IY S P OW K AH B AW T DH AH N AA B\\n', 'Y AO R N IY Z AH N D Y AO R EH L B OW Z AA R JH OY N T S\\n', 'AY EY T EY P IY S AH V CH AO K L AH T F AH JH\\n', 'P AO L HH OW P S W IY HH ER D AH B AW T DH AH L UW T\\n', 'IH N S T EH D AH V EY F EH N S P L AE N T EY HH EH JH\\n', 'DH AH S T AO R IY HH AE D EY K L EH V ER P L AA T\\n', 'D EY V IH D M AY T K AH N S IH D ER DH AH F AH N\\n', 'DH AH L AE N D L AO R D R EY Z D DH AH R EH N T\\n', 'P AO L K UH D N AA T K AH N S IH D ER DH AH R IH M\\n', 'HH IY HH ER D DH EY K AO L D AH B AW T DH AH L EY N Z\\n', 'HH ER HH EH R W AA Z T AY D W IH DH EY B L UW B AW AE Z IH N N OW\\n', 'DH EY HH AE D EY P R AA B L AH M W IH DH DH AH K L IH F\\n', 'HH IY Z EH M P L OY D B AY EY L AA R JH F ER M\\n', 'HH EH R IY W IH L K AH N S IH D ER DH AH T R EY L\\n', 'W IY AA R K AH N S IH D ER IH NG DH AH CH IH R Z\\n', 'T UW OW P AH N DH AH JH AA R T W IH S T DH AH L IH D\\n', 'SH IY HH AE Z N OW N AH B AW T DH AH D R AH G\\n', 'B IH L HH AE D EY P R AA B L AH M W IH DH DH AH CH AE T\\n', 'W IY HH IY R DH EY AE S K T AH B AW T DH AH SH EH D\\n', 'DH AH S W IH M ER Z L EH G G AA T EY B AE D K R AE M P\\n', 'JH EY N HH AE D N AA T K AH N S IH D ER D DH AH F IH L M\\n', 'AW ER S IY T S W ER IH N DH AH S EH K AH N D R OW AE Z IH N N OW\\n', 'JH EY N D IH D N AA T S P IY K AH B AW T DH AH S L AY S\\n', 'P AO L W AA Z IH N T AH R EH S T IH D IH N DH AH S AE P\\n', 'AY AE M D IH S K AH S IH NG DH AH T AE S K\\n', 'DH AH TH R EH D W AA Z W AW N D AA N EY S P UW L\\n', 'DH EY T R AE K T DH AH L AY AH N T UW HH IH Z D EH N\\n', 'R UW TH HH AE Z D IH S K AH S T DH AH P EH G\\n', 'S P R EH D S AH M B AH T ER AA N Y AO R B R EH D\\n', 'T AA M IH Z K AH N S IH D ER IH NG DH AH K L AA K\\n', 'HH IY Z TH IH NG K IH NG AH B AW T DH AH R AO R\\n', 'EY S P OY L D CH AY L D IH Z EY B R AE T\\n', 'AY SH UH D HH AE V N OW N AH B AW T DH AH G AH M\\n', 'K IY P Y AO R B R OW K AH N AA R M IH N EY S L IH NG\\n', 'DH AH M AW S W AA Z K AA T IH N DH AH T R AE P\\n', 'DH EY HH ER D AY AE S K T AH B AW T DH AH B EH T\\n', 'AY V G AA T EY K OW L D AH N D EY S AO R TH R OW T\\n', 'B EH T IY D AH Z AH N T D IH S K AH S DH AH K ER B\\n', 'HH IY HH AE D EY P R AA B L AH M W IH DH DH AH T IH N\\n', 'R UW TH P AO R D HH ER S EH L F EY K AH P AH V T IY\\n', 'DH AH HH AW S W AA Z R AA B D B AY EY TH IY F\\n', 'HH IY W AA N T S T UW N OW AH B AW T DH AH R IH B\\n', 'W AA SH DH AH F L AO R W IH DH EY M AA P\\n', 'AY D IH D N AA T N OW AH B AW T DH AH CH AH NG K S\\n', 'DH AH CH IH K AH N P EH K T K AO R N W IH DH IH T S B IY K\\n', 'B AA B K UH D K AH N S IH D ER DH AH P OW L\\n', 'DH AH JH AH JH IH Z S IH T IH NG AA N DH AH B EH N CH\\n', 'M IH S T ER S M IH TH N UW AH B AW T DH AH B EY\\n', 'Y UW V K AH N S IH D ER D DH AH S IY D Z\\n', 'DH AH HH EH V IY R EY N Z K AA Z D EY F L AH D\\n', 'F AO R D IH Z ER T HH IY HH AE D AE P AH L P AY\\n', 'SH IY HH OW P S JH EY N K AO L D AH B AW T DH AH K AE F\\n', 'DH AH D IH T EH K T IH V Z S ER CH T F AO R EY K L UW\\n', 'M EH R IY HH AE Z AH N T D IH S K AH S T DH AH B L EY D\\n', 'DH AH CH IH K S F AA L OW D DH AH M AH DH ER HH EH N\\n', 'M IH S T ER B R AW N TH IH NG K S AH B AW T DH AH V AO L T\\n', 'B AA B W AA Z K AH N S IH D ER IH NG DH AH K L ER K\\n', 'W IY K AE M P T AW T IH N AW ER T EH N T\\n', 'P AO L T UH K EY B AE TH IH N DH AH T AH B\\n', 'M EH R IY K AE N T K AH N S IH D ER DH AH T AY D\\n', 'DH AH OW L D M AE N T AO K T AH B AW T DH AH L AH NG Z\\n', 'DH AH K AE N D AH L B ER N D W IH DH EY B R AY T F L EY M\\n', 'M AY S AH N HH AE Z EY D AO G F AO R EY P EH T\\n', 'B AA B HH AE Z D IH S K AH S T DH AH S P L AE SH\\n', 'DH AH P L AW W AA Z P UH L D B AY AE N AA K S\\n', 'DH AH F L AH D T UH K EY HH EH V IY T OW L\\n', 'M IH S T ER S M IH TH S P OW K AH B AW T DH AH EY D\\n', 'M EH R IY HH AE D K AH N S IH D ER D DH AH S P R EY\\n', 'DH AH P AA N D W AA Z F UH L AH V K R OW K IH NG F R AA G Z\\n', 'DH AH G ER L SH UH D N AA T D IH S K AH S DH AH G AW N\\n', 'P L IY Z W AY P Y AO R F IY T AA N DH AH M AE T\\n', 'R UW TH HH OW P S B IH L K AO L D AH B AW T DH AH K AA P\\n', 'W IY W IH L K AH N S IH D ER DH AH D EH T\\n', 'P IY T ER K UH D K AH N S IH D ER DH AH D AH V\\n', 'SH IY SH AO R T AH N D DH AH HH EH M AH V HH ER S K ER T\\n', 'DH AH K AE B AH N W AA Z M EY D AH V L AO G Z\\n', 'B IH L K AE N T HH AE V K AH N S IH D ER D DH AH W IY L Z\\n', 'HH IY HH AE Z EY P R AA B L AH M W IH DH DH AH OW TH\\n', 'DH AH D IY L ER SH AH F AH L D DH AH K AA R D Z\\n', 'DH AH SH EH P ER D W AA CH T HH IH Z F L AA K AH V SH IY P\\n', 'DH AH F L AE SH L AY T K AE S T S EY B R AY T B IY M\\n', 'W IY K UH D K AH N S IH D ER DH AH F IY S T\\n', 'DH AH S K AA R F W AA Z M EY D AH V SH AY N IY S IH L K\\n', 'DH AH G EH S T S W ER W EH L K AH M D B AY DH AH HH OW S T\\n', 'B EH T IY HH AE Z K AH N S IH D ER D DH AH B AA R K\\n', 'DH AH S IH K CH AY L D S W AA L OW D DH AH P IH L\\n', 'P AO L SH UH D HH AE V D IH S K AH S T DH AH F L AA K\\n', 'T AY T AH N DH AH B EH L T B AY EY N AA CH\\n', 'SH IY M AY T D IH S K AH S DH AH K R AH M Z\\n', 'T AA M HH AE Z N AA T K AH N S IH D ER D DH AH G L UW\\n', 'DH AH S W IH M ER D AH V IH N T UW DH AH P UW L\\n', 'T AA M HH AE Z B IH N D IH S K AH S IH NG DH AH B IY D Z\\n', 'F AA L OW DH IH S R OW D ER AW N D DH AH B EH N D\\n', 'DH AH B ER D AH V P IY S IH Z DH AH D AH V\\n', 'T AA M HH AE D S P OW K AH N AH B AW T DH AH P IH L\\n', 'DH AH S IH G AH R EH T S M OW K F IH L D HH IH Z L AH NG Z\\n', 'DH EY V K AH N S IH D ER D DH AH SH IY P\\n', 'K AH T DH AH M IY T IH N T UW S M AO L CH AH NG K S\\n', 'W AO T ER M EH L AH N Z HH AE V L AA T S AH V S IY D Z\\n', 'DH AH M AE N SH UH D D IH S K AH S DH AH AA K S\\n', 'M IH S S M IH TH N OW Z AH B AW T DH AH T AH B\\n', 'R EY Z DH AH F L AE G AH P DH AH P OW L\\n', 'P IY T ER HH AE Z K AH N S IH D ER D DH AH M AE T\\n', 'DH AH B R AY D W AO R EY W AY T G AW N\\n', 'SH IY M AY T K AH N S IH D ER DH AH P UW L\\n', 'W IY S W AE M AE T DH AH B IY CH AE T HH AY T AY D\\n', 'DH AH P UW R M AE N W AA Z D IY P L IY IH N D EH T\\n', 'SH IY Z G L AE D B IH L K AO L D AH B AW T DH AH B IY K\\n', 'HH EH R IY HH AE D TH AO T AH B AW T DH AH L AO G Z\\n', 'B AE NG K S K IY P DH EH R M AH N IY IH N EY V AO L T\\n', 'DH AH W IH T N AH S T UH K EY S AA L AH M OW TH\\n', 'B IH L D IH D AH N T D IH S K AH S DH AH HH EH N\\n', 'R UW TH M AH S T HH AE V N OW N AH B AW T DH AH P AY\\n', 'DH AH SH EH P ER D Z G AA R D AH D DH EH R F L AA K\\n', 'B AA B HH AE Z K AH N S IH D ER D DH AH T EH N T\\n', 'W IY R S P IY K IH NG AH B AW T DH AH T OW L\\n', 'EY B AY S IH K AH L HH AE Z T UW W IY L Z\\n', 'AE N W ER K S IH N DH AH B AE NG K AE Z EY K L ER K\\n', 'T AA M W OW N T K AH N S IH D ER DH AH S IH L K\\n', 'R UW TH HH AE D EY N EH K L AH S AH V G L AE S B IY D Z\\n', 'SH IY Z D IH S K AH S IH NG DH AH B IY M\\n', 'P AO L HH IH T DH AH W AO T ER W IH DH EY S P L AE SH\\n', 'DH AH N ER S G EY V HH IH M F ER S T EY D\\n', 'DH AH W EH D IH NG B AE NG K W AH T W AA Z EY F IY S T\\n', 'N AE N S IY D IH D AH N T D IH S K AH S DH AH S K ER T\\n', 'DH AH G ER L SH UH D K AH N S IH D ER DH AH F L EY M\\n', 'T R IY T R AH NG K S AA R K AH V ER D W IH DH B AA R K\\n', 'B R EY K DH AH D R AY B IY D IH N T UW K R AH M Z\\n', 'M IH S T ER B L AE K HH AE Z D IH S K AH S T DH AH K AA R D Z\\n', 'DH AH W UH M AH N K AH N S IH D ER D DH AH N AA CH\\n', 'DH AH M AE N S P OW K AH B AW T DH AH K L UW\\n', 'DH AH B OW T S EY L D AH K R AO S DH AH B EY\\n', 'AY M T AO K IH NG AH B AW T DH AH B EH N CH\\n', 'DH EY HH ER D AY K AO L D AH B AW T DH AH P EH T\\n', 'DH AH K AW G EY V B ER TH T UW EY K AE F\\n', 'AY M G L AE D Y UW HH ER D AH B AW T DH AH B EH N D\\n', 'IH T W AA Z S T AH K T AH G EH DH ER W IH DH G L UW\\n', 'DH AH W UH M AH N T AO K T AH B AW T DH AH F R AA G Z\\n', 'B AA B W AA Z K AH T B AY DH AH JH AE K N AY F AH Z B L EY D\\n', 'P AO L W AA Z ER EH S T AH D B AY DH AH K AA P S\\n', 'B IH L HH ER D W IY AE S K T AH B AW T DH AH HH OW S T\\n', 'K IH L DH AH B AH G Z W IH DH DH IH S S P R EY\\n', 'DH AH K L AE S SH UH D K AH N S IH D ER DH AH F L AH D\\n']\n"
     ]
    }
   ],
   "source": [
    "label_path = '/home/beiming/RAW_DATA/MEG/case0554_A2_220715/Sentences/PB400_phone.txt'\n",
    "\n",
    "f = open(label_path, 'r')\n",
    "ls = f.readlines()\n",
    "print(ls)\n"
   ]
  },
  {
   "cell_type": "code",
   "execution_count": null,
   "id": "b3fb8aa7",
   "metadata": {},
   "outputs": [],
   "source": []
  }
 ],
 "metadata": {
  "kernelspec": {
   "display_name": "Python 3 (ipykernel)",
   "language": "python",
   "name": "python3"
  },
  "language_info": {
   "codemirror_mode": {
    "name": "ipython",
    "version": 3
   },
   "file_extension": ".py",
   "mimetype": "text/x-python",
   "name": "python",
   "nbconvert_exporter": "python",
   "pygments_lexer": "ipython3",
   "version": "3.8.10"
  }
 },
 "nbformat": 4,
 "nbformat_minor": 5
}
